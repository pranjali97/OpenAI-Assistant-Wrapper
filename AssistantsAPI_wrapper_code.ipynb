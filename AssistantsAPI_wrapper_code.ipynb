{
  "nbformat": 4,
  "nbformat_minor": 0,
  "metadata": {
    "colab": {
      "provenance": []
    },
    "kernelspec": {
      "name": "python3",
      "display_name": "Python 3"
    },
    "language_info": {
      "name": "python"
    }
  },
  "cells": [
    {
      "cell_type": "code",
      "execution_count": 1,
      "metadata": {
        "colab": {
          "base_uri": "https://localhost:8080/"
        },
        "id": "zSoTMAk0_mmF",
        "outputId": "0b321a49-ec72-47e7-99b7-ae484f852272"
      },
      "outputs": [
        {
          "output_type": "stream",
          "name": "stdout",
          "text": [
            "Collecting openai\n",
            "  Downloading openai-1.13.3-py3-none-any.whl (227 kB)\n",
            "\u001b[2K     \u001b[90m━━━━━━━━━━━━━━━━━━━━━━━━━━━━━━━━━━━━━━━━\u001b[0m \u001b[32m227.4/227.4 kB\u001b[0m \u001b[31m2.1 MB/s\u001b[0m eta \u001b[36m0:00:00\u001b[0m\n",
            "\u001b[?25hRequirement already satisfied: anyio<5,>=3.5.0 in /usr/local/lib/python3.10/dist-packages (from openai) (3.7.1)\n",
            "Requirement already satisfied: distro<2,>=1.7.0 in /usr/lib/python3/dist-packages (from openai) (1.7.0)\n",
            "Collecting httpx<1,>=0.23.0 (from openai)\n",
            "  Downloading httpx-0.27.0-py3-none-any.whl (75 kB)\n",
            "\u001b[2K     \u001b[90m━━━━━━━━━━━━━━━━━━━━━━━━━━━━━━━━━━━━━━━━\u001b[0m \u001b[32m75.6/75.6 kB\u001b[0m \u001b[31m9.6 MB/s\u001b[0m eta \u001b[36m0:00:00\u001b[0m\n",
            "\u001b[?25hRequirement already satisfied: pydantic<3,>=1.9.0 in /usr/local/lib/python3.10/dist-packages (from openai) (2.6.3)\n",
            "Requirement already satisfied: sniffio in /usr/local/lib/python3.10/dist-packages (from openai) (1.3.1)\n",
            "Requirement already satisfied: tqdm>4 in /usr/local/lib/python3.10/dist-packages (from openai) (4.66.2)\n",
            "Requirement already satisfied: typing-extensions<5,>=4.7 in /usr/local/lib/python3.10/dist-packages (from openai) (4.10.0)\n",
            "Requirement already satisfied: idna>=2.8 in /usr/local/lib/python3.10/dist-packages (from anyio<5,>=3.5.0->openai) (3.6)\n",
            "Requirement already satisfied: exceptiongroup in /usr/local/lib/python3.10/dist-packages (from anyio<5,>=3.5.0->openai) (1.2.0)\n",
            "Requirement already satisfied: certifi in /usr/local/lib/python3.10/dist-packages (from httpx<1,>=0.23.0->openai) (2024.2.2)\n",
            "Collecting httpcore==1.* (from httpx<1,>=0.23.0->openai)\n",
            "  Downloading httpcore-1.0.4-py3-none-any.whl (77 kB)\n",
            "\u001b[2K     \u001b[90m━━━━━━━━━━━━━━━━━━━━━━━━━━━━━━━━━━━━━━━━\u001b[0m \u001b[32m77.8/77.8 kB\u001b[0m \u001b[31m9.5 MB/s\u001b[0m eta \u001b[36m0:00:00\u001b[0m\n",
            "\u001b[?25hCollecting h11<0.15,>=0.13 (from httpcore==1.*->httpx<1,>=0.23.0->openai)\n",
            "  Downloading h11-0.14.0-py3-none-any.whl (58 kB)\n",
            "\u001b[2K     \u001b[90m━━━━━━━━━━━━━━━━━━━━━━━━━━━━━━━━━━━━━━━━\u001b[0m \u001b[32m58.3/58.3 kB\u001b[0m \u001b[31m7.7 MB/s\u001b[0m eta \u001b[36m0:00:00\u001b[0m\n",
            "\u001b[?25hRequirement already satisfied: annotated-types>=0.4.0 in /usr/local/lib/python3.10/dist-packages (from pydantic<3,>=1.9.0->openai) (0.6.0)\n",
            "Requirement already satisfied: pydantic-core==2.16.3 in /usr/local/lib/python3.10/dist-packages (from pydantic<3,>=1.9.0->openai) (2.16.3)\n",
            "Installing collected packages: h11, httpcore, httpx, openai\n",
            "Successfully installed h11-0.14.0 httpcore-1.0.4 httpx-0.27.0 openai-1.13.3\n"
          ]
        }
      ],
      "source": [
        "!pip install openai"
      ]
    },
    {
      "cell_type": "code",
      "source": [
        "import os\n",
        "from openai import OpenAI\n",
        "\n",
        "os.environ[\"OPENAI_API_KEY\"] = \"\"\n",
        "client = OpenAI(\n",
        "    api_key=os.environ.get(\"OPENAI_API_KEY\"),\n",
        ")"
      ],
      "metadata": {
        "id": "EthW73Gj_spK"
      },
      "execution_count": 8,
      "outputs": []
    },
    {
      "cell_type": "code",
      "source": [
        "class OpenAIAssistant:\n",
        "  \"\"\"\n",
        "  Class to create an OpenAI Assistant object\n",
        "  \"\"\"\n",
        "  def __init__(self, defaults):\n",
        "    self.defaults = defaults\n",
        "    self.client = OpenAI(\n",
        "                  api_key=os.environ.get(\"OPENAI_API_KEY\"),\n",
        "                  )\n",
        "\n",
        "  def create_assistant_file(self, file):\n",
        "    file = client.files.create(file=open(file, \"rb\"), purpose='assistants')\n",
        "    return file.id\n",
        "\n",
        "  def create_external_knowledge(self, knowledge_path):\n",
        "    included_extensions = ['c', 'cpp', 'csv', 'docx', 'html', 'java' , 'json', 'md', 'pdf', 'php', 'pptx', 'py', 'rb', 'tex', 'txt']\n",
        "\n",
        "    if os.path.isdir(knowledge_path):\n",
        "      file_ids = [self.create_assistant_file(os.path.join(knowledge_path, fn)) for fn in os.listdir(knowledge_path)\n",
        "                    if any(fn.endswith(ext) for ext in included_extensions)]\n",
        "\n",
        "    elif os.path.isfile(knowledge_path):\n",
        "      file_ids = [self.create_assistant_file(os.path.join(knowledge_path, fn))]\n",
        "\n",
        "    else:\n",
        "      raise ValueError(f\"Provided path '{knowledge_path}' is neither a file nor a folder\")\n",
        "\n",
        "    return file_ids\n",
        "\n",
        "  def create_assistant(self, name, instructions, knowledge_path):\n",
        "    knowledge_list = self.create_external_knowledge(knowledge_path)\n",
        "    assistant = client.beta.assistants.create(\n",
        "                name=name,\n",
        "                instructions=instructions,\n",
        "                tools=[{\"type\": \"retrieval\"}],\n",
        "                model= self.defaults[\"model\"],\n",
        "                file_ids=knowledge_list)\n",
        "    return assistant\n",
        "\n",
        "\n",
        "defaults = {\n",
        "        \"model\": \"gpt-4-turbo-preview\",\n",
        "        \"configuration\": {\n",
        "            \"temperature\": 1,\n",
        "            \"max_tokens\": 256,\n",
        "            \"top_p\": 1,\n",
        "            \"frequency_penalty\": 0,\n",
        "            \"presence_penalty\": 0,\n",
        "        },\n",
        "    }\n"
      ],
      "metadata": {
        "id": "Ufdapk52DRiF"
      },
      "execution_count": 9,
      "outputs": []
    },
    {
      "cell_type": "code",
      "source": [
        "name = \"Homework assistant\"\n",
        "instructions=\"You are a homework assistant that helps students with their homework but ensures that it only guides and doesn't do it for them.\"\n",
        "knowledge_path = \"/content/knowledge_folder\" # could be a file/ folder\n",
        "assistant = OpenAIAssistant(defaults)\n",
        "new_assistant = assistant.create_assistant(name, instructions, knowledge_path)\n"
      ],
      "metadata": {
        "id": "ha755vhGtOYa"
      },
      "execution_count": 10,
      "outputs": []
    },
    {
      "cell_type": "code",
      "source": [
        "new_assistant"
      ],
      "metadata": {
        "colab": {
          "base_uri": "https://localhost:8080/"
        },
        "id": "iWLo0HD7chfj",
        "outputId": "0ef20693-26f8-407c-b614-e2a181aabec5"
      },
      "execution_count": 11,
      "outputs": [
        {
          "output_type": "execute_result",
          "data": {
            "text/plain": [
              "Assistant(id='asst_IkGkydGWdVG1gqNdLgHGBPNF', created_at=1710130456, description=None, file_ids=['file-xxxatO1Vp3pCQycrI6GRxlbb', 'file-QPw7qnQ0Eo96bAlHrMEI7E3l'], instructions=\"You are a homework assistant that helps students with their homework but ensures that it only guides and doesn't do it for them.\", metadata={}, model='gpt-4-turbo-preview', name='Homework assistant', object='assistant', tools=[ToolRetrieval(type='retrieval')])"
            ]
          },
          "metadata": {},
          "execution_count": 11
        }
      ]
    },
    {
      "cell_type": "code",
      "source": [
        "class OpenAIAssistantWrapper:\n",
        "    def __init__(self, defaults):\n",
        "        self.defaults = defaults\n",
        "        self.client = OpenAI(\n",
        "                  api_key=os.environ.get(\"OPENAI_API_KEY\"),\n",
        "                  )\n",
        "\n",
        "    # get assistant\n",
        "    def get_assistant(self, assistant_id):\n",
        "      # given assistant_id, retreives assistant obj\n",
        "      assistant = client.beta.assistants.retrieve(assistant_id)\n",
        "      return assistant\n",
        "\n",
        "    # list assistants\n",
        "    def list_assistant(self):\n",
        "      # list all assistants available\n",
        "      assistants = client.beta.assistants.list(order=\"desc\")\n",
        "      return assistants\n",
        "\n",
        "    # list assistant files\n",
        "    def list_assistant_files(self, assistant_id):\n",
        "      assistant_files = client.beta.assistants.files.list(assistant_id=assistant_id)\n",
        "      return assistant_files\n",
        "\n",
        "    # delete assistant\n",
        "    def delete_assistant(self, assistant_id):\n",
        "      response = client.beta.assistants.delete(assistant_id)\n",
        "      return response"
      ],
      "metadata": {
        "id": "ltRpin_zkXlM"
      },
      "execution_count": 12,
      "outputs": []
    },
    {
      "cell_type": "code",
      "source": [
        "\n",
        "openai_wrapper = OpenAIAssistantWrapper(defaults)\n",
        "\n",
        "# retreive a given assistant\n",
        "assistant = openai_wrapper.get_assistant('asst_qfXiAczOJuZH2EPCYuMYqcXe')\n",
        "print('Assistant obj', assistant)\n",
        "\n",
        "#list assistants\n",
        "assistants = openai_wrapper.list_assistant()\n",
        "print('List of assistants', assistants)\n",
        "\n",
        "# list assistant files\n",
        "assistant_files = openai_wrapper.list_assistant_files('asst_qfXiAczOJuZH2EPCYuMYqcXe')\n",
        "print('Assistant files', assistant_files)\n",
        "\n",
        "#delete assistant\n",
        "response = openai_wrapper.delete_assistant('asst_qfXiAczOJuZH2EPCYuMYqcXe')\n",
        "print('Deletion response', response)\n"
      ],
      "metadata": {
        "colab": {
          "base_uri": "https://localhost:8080/"
        },
        "id": "fEzXi-a0uCj9",
        "outputId": "33ba0a18-62b1-4c58-b01b-821505b5664f"
      },
      "execution_count": 16,
      "outputs": [
        {
          "output_type": "stream",
          "name": "stdout",
          "text": [
            "Assistant obj Assistant(id='asst_qfXiAczOJuZH2EPCYuMYqcXe', created_at=1709840654, description=None, file_ids=['file-VmsF3EFOPTEt0kKHlyi5K6q6', 'file-v4ynnkKRiWWZ0ic53wa3OUA6'], instructions=\"You are a homework assistant that helps students with their homework but ensures that it only guides and doesn't do it for them.\", metadata={}, model='gpt-4-turbo-preview', name='Homework assistant', object='assistant', tools=[ToolRetrieval(type='retrieval')])\n",
            "List of assistants SyncCursorPage[Assistant](data=[Assistant(id='asst_IkGkydGWdVG1gqNdLgHGBPNF', created_at=1710130456, description=None, file_ids=['file-QPw7qnQ0Eo96bAlHrMEI7E3l', 'file-xxxatO1Vp3pCQycrI6GRxlbb'], instructions=\"You are a homework assistant that helps students with their homework but ensures that it only guides and doesn't do it for them.\", metadata={}, model='gpt-4-turbo-preview', name='Homework assistant', object='assistant', tools=[ToolRetrieval(type='retrieval')]), Assistant(id='asst_qfXiAczOJuZH2EPCYuMYqcXe', created_at=1709840654, description=None, file_ids=['file-VmsF3EFOPTEt0kKHlyi5K6q6', 'file-v4ynnkKRiWWZ0ic53wa3OUA6'], instructions=\"You are a homework assistant that helps students with their homework but ensures that it only guides and doesn't do it for them.\", metadata={}, model='gpt-4-turbo-preview', name='Homework assistant', object='assistant', tools=[ToolRetrieval(type='retrieval')])], object='list', first_id='asst_IkGkydGWdVG1gqNdLgHGBPNF', last_id='asst_qfXiAczOJuZH2EPCYuMYqcXe', has_more=False)\n",
            "Assistant files SyncCursorPage[AssistantFile](data=[AssistantFile(id='file-VmsF3EFOPTEt0kKHlyi5K6q6', assistant_id='asst_qfXiAczOJuZH2EPCYuMYqcXe', created_at=1709840655, object='assistant.file'), AssistantFile(id='file-v4ynnkKRiWWZ0ic53wa3OUA6', assistant_id='asst_qfXiAczOJuZH2EPCYuMYqcXe', created_at=1709840655, object='assistant.file')], object='list', first_id='file-VmsF3EFOPTEt0kKHlyi5K6q6', last_id='file-v4ynnkKRiWWZ0ic53wa3OUA6', has_more=False)\n",
            "Deletion response AssistantDeleted(id='asst_qfXiAczOJuZH2EPCYuMYqcXe', deleted=True, object='assistant.deleted')\n"
          ]
        }
      ]
    },
    {
      "cell_type": "code",
      "source": [],
      "metadata": {
        "id": "exXcy75buPKP"
      },
      "execution_count": null,
      "outputs": []
    }
  ]
}
